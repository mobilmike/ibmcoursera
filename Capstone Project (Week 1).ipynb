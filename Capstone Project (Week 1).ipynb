{
    "nbformat_minor": 1, 
    "cells": [
        {
            "source": "# Coursera Capstone Project\n## Capstone Project - The Battle of Neighborhoods (Week 1)\n## Part 1 : Introduction/Business Problem \n", 
            "cell_type": "markdown", 
            "metadata": {
                "collapsed": true
            }
        }, 
        {
            "source": "Scenario: \nI have a chance to visit my USA office with a short vacation. Therefore I would like to find a best place to live in Manhattan, NY. And I perfer to live in a convenient place with the following requirements:\n\n    - desired location is near a metro station in the Manhattan area and within 1.0 mile (1.6 km) radius\n", 
            "cell_type": "markdown", 
            "metadata": {}
        }
    ], 
    "metadata": {
        "kernelspec": {
            "display_name": "Python 3.5", 
            "name": "python3", 
            "language": "python"
        }, 
        "language_info": {
            "mimetype": "text/x-python", 
            "nbconvert_exporter": "python", 
            "version": "3.5.5", 
            "name": "python", 
            "file_extension": ".py", 
            "pygments_lexer": "ipython3", 
            "codemirror_mode": {
                "version": 3, 
                "name": "ipython"
            }
        }
    }, 
    "nbformat": 4
}